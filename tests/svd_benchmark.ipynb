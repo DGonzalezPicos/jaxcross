{
 "cells": [
  {
   "cell_type": "code",
   "execution_count": 16,
   "metadata": {},
   "outputs": [
    {
     "name": "stdout",
     "output_type": "stream",
     "text": [
      "env: XLA_PYTHON_CLIENT_ALLOCATOR=\"platform\"\n",
      "XLA_PYTHON_CLIENT_PREALLOCATE=FALSE\n",
      "XLA_PYTHON_CLIENT_ALLOCATOR=\"platform\"\n",
      "---Numpy---\n",
      "CPU times: user 0 ns, sys: 180 µs, total: 180 µs\n",
      "Wall time: 220 µs\n",
      "CPU times: user 0 ns, sys: 846 µs, total: 846 µs\n",
      "Wall time: 891 µs\n",
      "---JAX---\n",
      "CPU times: user 190 ms, sys: 3.74 ms, total: 193 ms\n",
      "Wall time: 197 ms\n"
     ]
    },
    {
     "ename": "RuntimeError",
     "evalue": "jaxlib/gpu/solver_kernels.cc:45: operation gpusolverDnCreate(&handle) failed: cuSolver internal error",
     "output_type": "error",
     "traceback": [
      "\u001b[0;31m---------------------------------------------------------------------------\u001b[0m",
      "\u001b[0;31mJaxStackTraceBeforeTransformation\u001b[0m         Traceback (most recent call last)",
      "File \u001b[0;32m~/anaconda3/envs/jaxcross/lib/python3.8/runpy.py:194\u001b[0m, in \u001b[0;36m_run_module_as_main\u001b[0;34m(***failed resolving arguments***)\u001b[0m\n\u001b[1;32m    193\u001b[0m     sys\u001b[39m.\u001b[39margv[\u001b[39m0\u001b[39m] \u001b[39m=\u001b[39m mod_spec\u001b[39m.\u001b[39morigin\n\u001b[0;32m--> 194\u001b[0m \u001b[39mreturn\u001b[39;00m _run_code(code, main_globals, \u001b[39mNone\u001b[39;00m,\n\u001b[1;32m    195\u001b[0m                  \u001b[39m\"\u001b[39m\u001b[39m__main__\u001b[39m\u001b[39m\"\u001b[39m, mod_spec)\n",
      "File \u001b[0;32m~/anaconda3/envs/jaxcross/lib/python3.8/runpy.py:87\u001b[0m, in \u001b[0;36m_run_code\u001b[0;34m(***failed resolving arguments***)\u001b[0m\n\u001b[1;32m     80\u001b[0m run_globals\u001b[39m.\u001b[39mupdate(\u001b[39m__name__\u001b[39m \u001b[39m=\u001b[39m mod_name,\n\u001b[1;32m     81\u001b[0m                    \u001b[39m__file__\u001b[39m \u001b[39m=\u001b[39m fname,\n\u001b[1;32m     82\u001b[0m                    __cached__ \u001b[39m=\u001b[39m cached,\n\u001b[0;32m   (...)\u001b[0m\n\u001b[1;32m     85\u001b[0m                    __package__ \u001b[39m=\u001b[39m pkg_name,\n\u001b[1;32m     86\u001b[0m                    __spec__ \u001b[39m=\u001b[39m mod_spec)\n\u001b[0;32m---> 87\u001b[0m exec(code, run_globals)\n\u001b[1;32m     88\u001b[0m \u001b[39mreturn\u001b[39;00m run_globals\n",
      "File \u001b[0;32m~/anaconda3/envs/jaxcross/lib/python3.8/site-packages/ipykernel_launcher.py:17\u001b[0m\n\u001b[1;32m     15\u001b[0m \u001b[39mfrom\u001b[39;00m \u001b[39mipykernel\u001b[39;00m \u001b[39mimport\u001b[39;00m kernelapp \u001b[39mas\u001b[39;00m app\n\u001b[0;32m---> 17\u001b[0m app\u001b[39m.\u001b[39mlaunch_new_instance()\n",
      "File \u001b[0;32m~/anaconda3/envs/jaxcross/lib/python3.8/site-packages/traitlets/config/application.py:992\u001b[0m, in \u001b[0;36mApplication.launch_instance\u001b[0;34m(***failed resolving arguments***)\u001b[0m\n\u001b[1;32m    991\u001b[0m app\u001b[39m.\u001b[39minitialize(argv)\n\u001b[0;32m--> 992\u001b[0m app\u001b[39m.\u001b[39mstart()\n",
      "File \u001b[0;32m~/anaconda3/envs/jaxcross/lib/python3.8/site-packages/ipykernel/kernelapp.py:711\u001b[0m, in \u001b[0;36mIPKernelApp.start\u001b[0;34m(***failed resolving arguments***)\u001b[0m\n\u001b[1;32m    710\u001b[0m \u001b[39mtry\u001b[39;00m:\n\u001b[0;32m--> 711\u001b[0m     \u001b[39mself\u001b[39m\u001b[39m.\u001b[39mio_loop\u001b[39m.\u001b[39mstart()\n\u001b[1;32m    712\u001b[0m \u001b[39mexcept\u001b[39;00m \u001b[39mKeyboardInterrupt\u001b[39;00m:\n",
      "File \u001b[0;32m~/anaconda3/envs/jaxcross/lib/python3.8/site-packages/tornado/platform/asyncio.py:215\u001b[0m, in \u001b[0;36mBaseAsyncIOLoop.start\u001b[0;34m(***failed resolving arguments***)\u001b[0m\n\u001b[1;32m    214\u001b[0m     asyncio\u001b[39m.\u001b[39mset_event_loop(\u001b[39mself\u001b[39m\u001b[39m.\u001b[39masyncio_loop)\n\u001b[0;32m--> 215\u001b[0m     \u001b[39mself\u001b[39m\u001b[39m.\u001b[39masyncio_loop\u001b[39m.\u001b[39mrun_forever()\n\u001b[1;32m    216\u001b[0m \u001b[39mfinally\u001b[39;00m:\n",
      "File \u001b[0;32m~/anaconda3/envs/jaxcross/lib/python3.8/asyncio/base_events.py:570\u001b[0m, in \u001b[0;36mBaseEventLoop.run_forever\u001b[0;34m(***failed resolving arguments***)\u001b[0m\n\u001b[1;32m    569\u001b[0m \u001b[39mwhile\u001b[39;00m \u001b[39mTrue\u001b[39;00m:\n\u001b[0;32m--> 570\u001b[0m     \u001b[39mself\u001b[39m\u001b[39m.\u001b[39m_run_once()\n\u001b[1;32m    571\u001b[0m     \u001b[39mif\u001b[39;00m \u001b[39mself\u001b[39m\u001b[39m.\u001b[39m_stopping:\n",
      "File \u001b[0;32m~/anaconda3/envs/jaxcross/lib/python3.8/asyncio/base_events.py:1859\u001b[0m, in \u001b[0;36mBaseEventLoop._run_once\u001b[0;34m(***failed resolving arguments***)\u001b[0m\n\u001b[1;32m   1858\u001b[0m     \u001b[39melse\u001b[39;00m:\n\u001b[0;32m-> 1859\u001b[0m         handle\u001b[39m.\u001b[39m_run()\n\u001b[1;32m   1860\u001b[0m handle \u001b[39m=\u001b[39m \u001b[39mNone\u001b[39;00m\n",
      "File \u001b[0;32m~/anaconda3/envs/jaxcross/lib/python3.8/asyncio/events.py:81\u001b[0m, in \u001b[0;36mHandle._run\u001b[0;34m(***failed resolving arguments***)\u001b[0m\n\u001b[1;32m     80\u001b[0m \u001b[39mtry\u001b[39;00m:\n\u001b[0;32m---> 81\u001b[0m     \u001b[39mself\u001b[39m\u001b[39m.\u001b[39m_context\u001b[39m.\u001b[39mrun(\u001b[39mself\u001b[39m\u001b[39m.\u001b[39m_callback, \u001b[39m*\u001b[39m\u001b[39mself\u001b[39m\u001b[39m.\u001b[39m_args)\n\u001b[1;32m     82\u001b[0m \u001b[39mexcept\u001b[39;00m (\u001b[39mSystemExit\u001b[39;00m, \u001b[39mKeyboardInterrupt\u001b[39;00m):\n",
      "File \u001b[0;32m~/anaconda3/envs/jaxcross/lib/python3.8/site-packages/ipykernel/kernelbase.py:510\u001b[0m, in \u001b[0;36mKernel.dispatch_queue\u001b[0;34m(***failed resolving arguments***)\u001b[0m\n\u001b[1;32m    509\u001b[0m \u001b[39mtry\u001b[39;00m:\n\u001b[0;32m--> 510\u001b[0m     \u001b[39mawait\u001b[39;00m \u001b[39mself\u001b[39m\u001b[39m.\u001b[39mprocess_one()\n\u001b[1;32m    511\u001b[0m \u001b[39mexcept\u001b[39;00m \u001b[39mException\u001b[39;00m:\n",
      "File \u001b[0;32m~/anaconda3/envs/jaxcross/lib/python3.8/site-packages/ipykernel/kernelbase.py:499\u001b[0m, in \u001b[0;36mKernel.process_one\u001b[0;34m(***failed resolving arguments***)\u001b[0m\n\u001b[1;32m    498\u001b[0m         \u001b[39mreturn\u001b[39;00m \u001b[39mNone\u001b[39;00m\n\u001b[0;32m--> 499\u001b[0m \u001b[39mawait\u001b[39;00m dispatch(\u001b[39m*\u001b[39margs)\n",
      "File \u001b[0;32m~/anaconda3/envs/jaxcross/lib/python3.8/site-packages/ipykernel/kernelbase.py:406\u001b[0m, in \u001b[0;36mKernel.dispatch_shell\u001b[0;34m(***failed resolving arguments***)\u001b[0m\n\u001b[1;32m    405\u001b[0m     \u001b[39mif\u001b[39;00m inspect\u001b[39m.\u001b[39misawaitable(result):\n\u001b[0;32m--> 406\u001b[0m         \u001b[39mawait\u001b[39;00m result\n\u001b[1;32m    407\u001b[0m \u001b[39mexcept\u001b[39;00m \u001b[39mException\u001b[39;00m:\n",
      "File \u001b[0;32m~/anaconda3/envs/jaxcross/lib/python3.8/site-packages/ipykernel/kernelbase.py:729\u001b[0m, in \u001b[0;36mKernel.execute_request\u001b[0;34m(***failed resolving arguments***)\u001b[0m\n\u001b[1;32m    728\u001b[0m \u001b[39mif\u001b[39;00m inspect\u001b[39m.\u001b[39misawaitable(reply_content):\n\u001b[0;32m--> 729\u001b[0m     reply_content \u001b[39m=\u001b[39m \u001b[39mawait\u001b[39;00m reply_content\n\u001b[1;32m    731\u001b[0m \u001b[39m# Flush output before sending the reply.\u001b[39;00m\n",
      "File \u001b[0;32m~/anaconda3/envs/jaxcross/lib/python3.8/site-packages/ipykernel/ipkernel.py:411\u001b[0m, in \u001b[0;36mIPythonKernel.do_execute\u001b[0;34m(***failed resolving arguments***)\u001b[0m\n\u001b[1;32m    410\u001b[0m \u001b[39mif\u001b[39;00m with_cell_id:\n\u001b[0;32m--> 411\u001b[0m     res \u001b[39m=\u001b[39m shell\u001b[39m.\u001b[39mrun_cell(\n\u001b[1;32m    412\u001b[0m         code,\n\u001b[1;32m    413\u001b[0m         store_history\u001b[39m=\u001b[39mstore_history,\n\u001b[1;32m    414\u001b[0m         silent\u001b[39m=\u001b[39msilent,\n\u001b[1;32m    415\u001b[0m         cell_id\u001b[39m=\u001b[39mcell_id,\n\u001b[1;32m    416\u001b[0m     )\n\u001b[1;32m    417\u001b[0m \u001b[39melse\u001b[39;00m:\n",
      "File \u001b[0;32m~/anaconda3/envs/jaxcross/lib/python3.8/site-packages/ipykernel/zmqshell.py:531\u001b[0m, in \u001b[0;36mZMQInteractiveShell.run_cell\u001b[0;34m(***failed resolving arguments***)\u001b[0m\n\u001b[1;32m    530\u001b[0m \u001b[39mself\u001b[39m\u001b[39m.\u001b[39m_last_traceback \u001b[39m=\u001b[39m \u001b[39mNone\u001b[39;00m\n\u001b[0;32m--> 531\u001b[0m \u001b[39mreturn\u001b[39;00m \u001b[39msuper\u001b[39m()\u001b[39m.\u001b[39mrun_cell(\u001b[39m*\u001b[39margs, \u001b[39m*\u001b[39m\u001b[39m*\u001b[39mkwargs)\n",
      "File \u001b[0;32m~/anaconda3/envs/jaxcross/lib/python3.8/site-packages/IPython/core/interactiveshell.py:2940\u001b[0m, in \u001b[0;36mInteractiveShell.run_cell\u001b[0;34m(***failed resolving arguments***)\u001b[0m\n\u001b[1;32m   2939\u001b[0m \u001b[39mtry\u001b[39;00m:\n\u001b[0;32m-> 2940\u001b[0m     result \u001b[39m=\u001b[39m \u001b[39mself\u001b[39m\u001b[39m.\u001b[39m_run_cell(\n\u001b[1;32m   2941\u001b[0m         raw_cell, store_history, silent, shell_futures, cell_id\n\u001b[1;32m   2942\u001b[0m     )\n\u001b[1;32m   2943\u001b[0m \u001b[39mfinally\u001b[39;00m:\n",
      "File \u001b[0;32m~/anaconda3/envs/jaxcross/lib/python3.8/site-packages/IPython/core/interactiveshell.py:2995\u001b[0m, in \u001b[0;36mInteractiveShell._run_cell\u001b[0;34m(***failed resolving arguments***)\u001b[0m\n\u001b[1;32m   2994\u001b[0m \u001b[39mtry\u001b[39;00m:\n\u001b[0;32m-> 2995\u001b[0m     \u001b[39mreturn\u001b[39;00m runner(coro)\n\u001b[1;32m   2996\u001b[0m \u001b[39mexcept\u001b[39;00m \u001b[39mBaseException\u001b[39;00m \u001b[39mas\u001b[39;00m e:\n",
      "File \u001b[0;32m~/anaconda3/envs/jaxcross/lib/python3.8/site-packages/IPython/core/async_helpers.py:129\u001b[0m, in \u001b[0;36m_pseudo_sync_runner\u001b[0;34m(***failed resolving arguments***)\u001b[0m\n\u001b[1;32m    128\u001b[0m \u001b[39mtry\u001b[39;00m:\n\u001b[0;32m--> 129\u001b[0m     coro\u001b[39m.\u001b[39msend(\u001b[39mNone\u001b[39;00m)\n\u001b[1;32m    130\u001b[0m \u001b[39mexcept\u001b[39;00m \u001b[39mStopIteration\u001b[39;00m \u001b[39mas\u001b[39;00m exc:\n",
      "File \u001b[0;32m~/anaconda3/envs/jaxcross/lib/python3.8/site-packages/IPython/core/interactiveshell.py:3194\u001b[0m, in \u001b[0;36mInteractiveShell.run_cell_async\u001b[0;34m(***failed resolving arguments***)\u001b[0m\n\u001b[1;32m   3192\u001b[0m interactivity \u001b[39m=\u001b[39m \u001b[39m\"\u001b[39m\u001b[39mnone\u001b[39m\u001b[39m\"\u001b[39m \u001b[39mif\u001b[39;00m silent \u001b[39melse\u001b[39;00m \u001b[39mself\u001b[39m\u001b[39m.\u001b[39mast_node_interactivity\n\u001b[0;32m-> 3194\u001b[0m has_raised \u001b[39m=\u001b[39m \u001b[39mawait\u001b[39;00m \u001b[39mself\u001b[39m\u001b[39m.\u001b[39mrun_ast_nodes(code_ast\u001b[39m.\u001b[39mbody, cell_name,\n\u001b[1;32m   3195\u001b[0m        interactivity\u001b[39m=\u001b[39minteractivity, compiler\u001b[39m=\u001b[39mcompiler, result\u001b[39m=\u001b[39mresult)\n\u001b[1;32m   3197\u001b[0m \u001b[39mself\u001b[39m\u001b[39m.\u001b[39mlast_execution_succeeded \u001b[39m=\u001b[39m \u001b[39mnot\u001b[39;00m has_raised\n",
      "File \u001b[0;32m~/anaconda3/envs/jaxcross/lib/python3.8/site-packages/IPython/core/interactiveshell.py:3373\u001b[0m, in \u001b[0;36mInteractiveShell.run_ast_nodes\u001b[0;34m(***failed resolving arguments***)\u001b[0m\n\u001b[1;32m   3372\u001b[0m     asy \u001b[39m=\u001b[39m compare(code)\n\u001b[0;32m-> 3373\u001b[0m \u001b[39mif\u001b[39;00m \u001b[39mawait\u001b[39;00m \u001b[39mself\u001b[39m\u001b[39m.\u001b[39mrun_code(code, result, async_\u001b[39m=\u001b[39masy):\n\u001b[1;32m   3374\u001b[0m     \u001b[39mreturn\u001b[39;00m \u001b[39mTrue\u001b[39;00m\n",
      "File \u001b[0;32m~/anaconda3/envs/jaxcross/lib/python3.8/site-packages/IPython/core/interactiveshell.py:3433\u001b[0m, in \u001b[0;36mInteractiveShell.run_code\u001b[0;34m(***failed resolving arguments***)\u001b[0m\n\u001b[1;32m   3432\u001b[0m     \u001b[39melse\u001b[39;00m:\n\u001b[0;32m-> 3433\u001b[0m         exec(code_obj, \u001b[39mself\u001b[39m\u001b[39m.\u001b[39muser_global_ns, \u001b[39mself\u001b[39m\u001b[39m.\u001b[39muser_ns)\n\u001b[1;32m   3434\u001b[0m \u001b[39mfinally\u001b[39;00m:\n\u001b[1;32m   3435\u001b[0m     \u001b[39m# Reset our crash handler in place\u001b[39;00m\n",
      "Cell \u001b[0;32mIn[16], line 35\u001b[0m\n\u001b[1;32m     34\u001b[0m get_ipython()\u001b[39m.\u001b[39mrun_line_magic(\u001b[39m'\u001b[39m\u001b[39mtime\u001b[39m\u001b[39m'\u001b[39m, \u001b[39m'\u001b[39m\u001b[39mout = jnp.matmul(ATj,Bj)\u001b[39m\u001b[39m'\u001b[39m)\n\u001b[0;32m---> 35\u001b[0m get_ipython()\u001b[39m.\u001b[39mrun_line_magic(\u001b[39m'\u001b[39m\u001b[39mtime\u001b[39m\u001b[39m'\u001b[39m, \u001b[39m'\u001b[39m\u001b[39mjnp.linalg.svd(Mj, full_matrices=False)\u001b[39m\u001b[39m'\u001b[39m)\n",
      "File \u001b[0;32m~/anaconda3/envs/jaxcross/lib/python3.8/site-packages/IPython/core/interactiveshell.py:2364\u001b[0m, in \u001b[0;36mInteractiveShell.run_line_magic\u001b[0;34m(***failed resolving arguments***)\u001b[0m\n\u001b[1;32m   2363\u001b[0m \u001b[39mwith\u001b[39;00m \u001b[39mself\u001b[39m\u001b[39m.\u001b[39mbuiltin_trap:\n\u001b[0;32m-> 2364\u001b[0m     result \u001b[39m=\u001b[39m fn(\u001b[39m*\u001b[39margs, \u001b[39m*\u001b[39m\u001b[39m*\u001b[39mkwargs)\n\u001b[1;32m   2365\u001b[0m \u001b[39mreturn\u001b[39;00m result\n",
      "File \u001b[0;32m~/anaconda3/envs/jaxcross/lib/python3.8/site-packages/IPython/core/magics/execution.py:1308\u001b[0m, in \u001b[0;36mExecutionMagics.time\u001b[0;34m(***failed resolving arguments***)\u001b[0m\n\u001b[1;32m   1307\u001b[0m \u001b[39mtry\u001b[39;00m:\n\u001b[0;32m-> 1308\u001b[0m     out \u001b[39m=\u001b[39m \u001b[39meval\u001b[39m(code, glob, local_ns)\n\u001b[1;32m   1309\u001b[0m \u001b[39mexcept\u001b[39;00m:\n",
      "File \u001b[0;32m<timed eval>:1\u001b[0m\n",
      "File \u001b[0;32m~/.local/lib/python3.8/site-packages/jax/_src/numpy/linalg.py:91\u001b[0m, in \u001b[0;36msvd\u001b[0;34m(***failed resolving arguments***)\u001b[0m\n\u001b[1;32m     89\u001b[0m     \u001b[39mreturn\u001b[39;00m lax\u001b[39m.\u001b[39mrev(lax\u001b[39m.\u001b[39msort(s, dimension\u001b[39m=\u001b[39m\u001b[39m-\u001b[39m\u001b[39m1\u001b[39m), dimensions\u001b[39m=\u001b[39m[s\u001b[39m.\u001b[39mndim\u001b[39m-\u001b[39m\u001b[39m1\u001b[39m])\n\u001b[0;32m---> 91\u001b[0m \u001b[39mreturn\u001b[39;00m lax_linalg\u001b[39m.\u001b[39msvd(a, full_matrices\u001b[39m=\u001b[39mfull_matrices, compute_uv\u001b[39m=\u001b[39mcompute_uv)\n",
      "\u001b[0;31mJaxStackTraceBeforeTransformation\u001b[0m: RuntimeError: jaxlib/gpu/solver_kernels.cc:45: operation gpusolverDnCreate(&handle) failed: cuSolver internal error\n\nThe preceding stack trace is the source of the JAX operation that, once transformed by JAX, triggered the following exception.\n\n--------------------",
      "\nThe above exception was the direct cause of the following exception:\n",
      "\u001b[0;31mRuntimeError\u001b[0m                              Traceback (most recent call last)",
      "File \u001b[0;32m<timed eval>:1\u001b[0m\n",
      "    \u001b[0;31m[... skipping hidden 12 frame]\u001b[0m\n",
      "File \u001b[0;32m~/.local/lib/python3.8/site-packages/jaxlib/gpu_solver.py:333\u001b[0m, in \u001b[0;36m_gesvd_mhlo\u001b[0;34m(platform, gpu_solver, have_jacobi_solver, dtype, a, full_matrices, compute_uv)\u001b[0m\n\u001b[1;32m    330\u001b[0m \u001b[39mif\u001b[39;00m have_jacobi_solver \u001b[39mand\u001b[39;00m m \u001b[39m<\u001b[39m \u001b[39m32\u001b[39m \u001b[39mand\u001b[39;00m n \u001b[39m<\u001b[39m \u001b[39m32\u001b[39m:\n\u001b[1;32m    331\u001b[0m   \u001b[39m# The batched kernel doesn't support \"econ\" mode.\u001b[39;00m\n\u001b[1;32m    332\u001b[0m   econ \u001b[39m=\u001b[39m \u001b[39mnot\u001b[39;00m full_matrices \u001b[39mand\u001b[39;00m b \u001b[39m==\u001b[39m \u001b[39m1\u001b[39m\n\u001b[0;32m--> 333\u001b[0m   lwork, opaque \u001b[39m=\u001b[39m gpu_solver\u001b[39m.\u001b[39;49mbuild_gesvdj_descriptor(\n\u001b[1;32m    334\u001b[0m       np\u001b[39m.\u001b[39;49mdtype(dtype), b, m, n, compute_uv, \u001b[39m1\u001b[39;49m \u001b[39mif\u001b[39;49;00m econ \u001b[39melse\u001b[39;49;00m \u001b[39m0\u001b[39;49m)\n\u001b[1;32m    335\u001b[0m   k \u001b[39m=\u001b[39m \u001b[39mmin\u001b[39m(m, n)\n\u001b[1;32m    336\u001b[0m   matrix_layout \u001b[39m=\u001b[39m (num_bd, num_bd \u001b[39m+\u001b[39m \u001b[39m1\u001b[39m) \u001b[39m+\u001b[39m \u001b[39mtuple\u001b[39m(\u001b[39mrange\u001b[39m(num_bd \u001b[39m-\u001b[39m \u001b[39m1\u001b[39m, \u001b[39m-\u001b[39m\u001b[39m1\u001b[39m, \u001b[39m-\u001b[39m\u001b[39m1\u001b[39m))\n",
      "\u001b[0;31mRuntimeError\u001b[0m: jaxlib/gpu/solver_kernels.cc:45: operation gpusolverDnCreate(&handle) failed: cuSolver internal error"
     ]
    }
   ],
   "source": [
    "import numpy as np\n",
    "# import cupy as cp\n",
    "import jax.numpy as jnp\n",
    "import jax\n",
    "\n",
    "import os\n",
    "\n",
    "os.environ['XLA_PYTHON_CLIENT_PREALLOCATE'] =  \"FALSE\"\n",
    "# os.environ['XLA_PYTHON_CLIENT_ALLOCATOR'] = \"platform\"\n",
    "%env XLA_PYTHON_CLIENT_ALLOCATOR=\"platform\"\n",
    "!env | grep XLA\n",
    "\n",
    "print('---Numpy---')\n",
    "AT=np.random.random((10,500))\n",
    "B=np.random.random((500,10))\n",
    "M=AT@B\n",
    "\n",
    "%time M=AT@B\n",
    "%time out=u,s,vt=np.linalg.svd(M)\n",
    "\n",
    "# print('---Cupy---')\n",
    "# ATcp=cp.array(AT)\n",
    "# Bcp=cp.array(B)\n",
    "# Mcp=cp.array(M)\n",
    "# %time out=ATcp@Bcp\n",
    "# %time out=u,s,vt=np.linalg.svd(Mcp)\n",
    "\n",
    "print('---JAX---')\n",
    "ATj=jnp.array(AT)\n",
    "Bj=jnp.array(B)\n",
    "Mj=jnp.array(M)\n",
    "# jit_matmul = jax.jit(jnp.matmul)\n",
    "# jit_svd = jax.jit(jnp.linalg.svd)\n",
    "%time out = jnp.matmul(ATj,Bj)\n",
    "%time jnp.linalg.svd(Mj, full_matrices=False)"
   ]
  }
 ],
 "metadata": {
  "kernelspec": {
   "display_name": "Python 3.8.15 ('jaxcross')",
   "language": "python",
   "name": "python3"
  },
  "language_info": {
   "codemirror_mode": {
    "name": "ipython",
    "version": 3
   },
   "file_extension": ".py",
   "mimetype": "text/x-python",
   "name": "python",
   "nbconvert_exporter": "python",
   "pygments_lexer": "ipython3",
   "version": "3.8.16"
  },
  "orig_nbformat": 4,
  "vscode": {
   "interpreter": {
    "hash": "ff729659b3554a9048e0e8e48af367988a28b74fc47d264efe5918eb83b12a7f"
   }
  }
 },
 "nbformat": 4,
 "nbformat_minor": 2
}
